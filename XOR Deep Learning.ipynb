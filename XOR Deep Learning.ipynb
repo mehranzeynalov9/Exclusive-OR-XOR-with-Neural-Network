{
 "cells": [
  {
   "cell_type": "code",
   "execution_count": 54,
   "id": "a3419a68",
   "metadata": {},
   "outputs": [
    {
     "data": {
      "text/html": [
       "<style>.container { width:95% !important; }</style>"
      ],
      "text/plain": [
       "<IPython.core.display.HTML object>"
      ]
     },
     "metadata": {},
     "output_type": "display_data"
    }
   ],
   "source": [
    "from IPython.display import display, HTML\n",
    "display(HTML(\"<style>.container { width:95% !important; }</style>\"))\n",
    "from warnings import filterwarnings\n",
    "filterwarnings(\"ignore\")"
   ]
  },
  {
   "cell_type": "code",
   "execution_count": 229,
   "id": "21580d82",
   "metadata": {},
   "outputs": [],
   "source": [
    "import pandas as pd\n",
    "import seaborn as sns\n",
    "import matplotlib.pyplot as plt\n",
    "import torch\n",
    "from torch import nn\n",
    "from torch.utils.data import DataLoader\n",
    "from torchvision import datasets\n",
    "from torchvision.transforms import ToTensor, Lambda, Compose\n"
   ]
  },
  {
   "cell_type": "markdown",
   "id": "180ca695",
   "metadata": {},
   "source": [
    "# Data"
   ]
  },
  {
   "cell_type": "code",
   "execution_count": 312,
   "id": "36897b23",
   "metadata": {},
   "outputs": [
    {
     "data": {
      "text/html": [
       "<div>\n",
       "<style scoped>\n",
       "    .dataframe tbody tr th:only-of-type {\n",
       "        vertical-align: middle;\n",
       "    }\n",
       "\n",
       "    .dataframe tbody tr th {\n",
       "        vertical-align: top;\n",
       "    }\n",
       "\n",
       "    .dataframe thead th {\n",
       "        text-align: right;\n",
       "    }\n",
       "</style>\n",
       "<table border=\"1\" class=\"dataframe\">\n",
       "  <thead>\n",
       "    <tr style=\"text-align: right;\">\n",
       "      <th></th>\n",
       "      <th>a</th>\n",
       "      <th>b</th>\n",
       "      <th>target</th>\n",
       "    </tr>\n",
       "  </thead>\n",
       "  <tbody>\n",
       "    <tr>\n",
       "      <th>0</th>\n",
       "      <td>0</td>\n",
       "      <td>0</td>\n",
       "      <td>0</td>\n",
       "    </tr>\n",
       "    <tr>\n",
       "      <th>1</th>\n",
       "      <td>1</td>\n",
       "      <td>0</td>\n",
       "      <td>1</td>\n",
       "    </tr>\n",
       "    <tr>\n",
       "      <th>2</th>\n",
       "      <td>0</td>\n",
       "      <td>1</td>\n",
       "      <td>1</td>\n",
       "    </tr>\n",
       "    <tr>\n",
       "      <th>3</th>\n",
       "      <td>1</td>\n",
       "      <td>1</td>\n",
       "      <td>0</td>\n",
       "    </tr>\n",
       "  </tbody>\n",
       "</table>\n",
       "</div>"
      ],
      "text/plain": [
       "   a  b  target\n",
       "0  0  0       0\n",
       "1  1  0       1\n",
       "2  0  1       1\n",
       "3  1  1       0"
      ]
     },
     "execution_count": 312,
     "metadata": {},
     "output_type": "execute_result"
    }
   ],
   "source": [
    "xor_data=pd.DataFrame([[0,0,0],\n",
    "                       [1,0,1],\n",
    "                      [0,1,1],\n",
    "                      [1,1,0]],columns=['a','b','target'])\n",
    "xor_data"
   ]
  },
  {
   "cell_type": "markdown",
   "id": "c2cc99bd",
   "metadata": {},
   "source": [
    "## Data Plot"
   ]
  },
  {
   "cell_type": "code",
   "execution_count": 313,
   "id": "7eff5c1c",
   "metadata": {
    "code_folding": [],
    "scrolled": false
   },
   "outputs": [
    {
     "data": {
      "image/png": "[encoded data removed]",
      "text/plain": [
       "<Figure size 600x500 with 1 Axes>"
      ]
     },
     "metadata": {
      "needs_background": "light"
     },
     "output_type": "display_data"
    }
   ],
   "source": [
    "plt.figure(figsize=(6,5),dpi=100)\n",
    "sns.scatterplot(data=xor_data,x='a',y='b')\n",
    "for i in range(len(xor_data)):\n",
    "    xs=xor_data.loc[i,'a']+0.05\n",
    "    ys=xor_data.loc[i,'b']\n",
    "    text=xor_data.loc[i,'target']\n",
    "    plt.annotate(text,(xs,ys))\n",
    "plt.show()"
   ]
  },
  {
   "cell_type": "markdown",
   "id": "ff7ae2c8",
   "metadata": {},
   "source": [
    "## Data Tensor"
   ]
  },
  {
   "cell_type": "code",
   "execution_count": 323,
   "id": "d1695920",
   "metadata": {},
   "outputs": [
    {
     "data": {
      "text/plain": [
       "tensor([[0.],\n",
       "        [1.],\n",
       "        [1.],\n",
       "        [0.]])"
      ]
     },
     "execution_count": 323,
     "metadata": {},
     "output_type": "execute_result"
    }
   ],
   "source": [
    "X=torch.Tensor([[0.,0.],\n",
    "                       [1.,0.],\n",
    "                      [0.,1.],\n",
    "                      [1.,1.]])\n",
    "y = torch.Tensor([0., 1., 1., 0.]).reshape(X.shape[0], 1) # respahe-e diqqet ele\n",
    "y"
   ]
  },
  {
   "cell_type": "markdown",
   "id": "4db2aead",
   "metadata": {},
   "source": [
    "# Deep Learning Model"
   ]
  },
  {
   "cell_type": "markdown",
   "id": "9fea25ec",
   "metadata": {},
   "source": [
    "## Create Model"
   ]
  },
  {
   "cell_type": "code",
   "execution_count": 364,
   "id": "395b3a44",
   "metadata": {},
   "outputs": [],
   "source": [
    "class xor_model(nn.Module):\n",
    "    def __init__(self):\n",
    "        super(xor_model, self).__init__()\n",
    "#         self.flat= nn.Flatten()\n",
    "        self.linear_relu_stack = nn.Sequential(\n",
    "            nn.Linear(2,2),\n",
    "            nn.Sigmoid(),\n",
    "            nn.Linear(2,1),\n",
    "            nn.Sigmoid()\n",
    "        )\n",
    "    def forward(self,x):\n",
    "#         flat_data=self.flat(x)\n",
    "        result=self.linear_relu_stack(x)\n",
    "        return result   \n",
    "test_model=xor_model()"
   ]
  },
  {
   "cell_type": "code",
   "execution_count": 365,
   "id": "12615e26",
   "metadata": {},
   "outputs": [],
   "source": [
    "def train(data, model, loss_fn, optimizer):\n",
    "    y_pred=model(X)\n",
    "    loss=loss_fn(y_pred,y)\n",
    "    loss_result=loss\n",
    "    optimizer.zero_grad()\n",
    "    loss.backward()\n",
    "    optimizer.step()\n",
    "    return loss_result"
   ]
  },
  {
   "cell_type": "markdown",
   "id": "bcfbed2e",
   "metadata": {},
   "source": [
    "## Train With Def"
   ]
  },
  {
   "cell_type": "code",
   "execution_count": 366,
   "id": "138761b0",
   "metadata": {},
   "outputs": [
    {
     "name": "stdout",
     "output_type": "stream",
     "text": [
      "Epoch 0, Loss 0.2505686581134796\n",
      "Epoch 100, Loss 0.14956432580947876\n",
      "Epoch 200, Loss 0.13023170828819275\n",
      "Epoch 300, Loss 0.12755930423736572\n",
      "Epoch 400, Loss 0.1265718787908554\n",
      "Epoch 500, Loss 0.12608087062835693\n",
      "Epoch 600, Loss 0.12579578161239624\n",
      "Epoch 700, Loss 0.12561355531215668\n",
      "Epoch 800, Loss 0.12548907101154327\n",
      "Epoch 900, Loss 0.12539972364902496\n",
      "Epoch 1000, Loss 0.12533318996429443\n"
     ]
    }
   ],
   "source": [
    "epoch=1000\n",
    "lrt=.03\n",
    "optimizer=torch.optim.Adam(test_model.parameters(),lr=lrt)\n",
    "loss_fn=nn.MSELoss()\n",
    "for epoch in range(epoch+1):\n",
    "    loss_result=train(X, test_model, loss_fn, optimizer)\n",
    "    if epoch%100==0:\n",
    "        print(\"Epoch {}, Loss {}\".format(epoch,loss_result))"
   ]
  },
  {
   "cell_type": "markdown",
   "id": "a514aa20",
   "metadata": {
    "solution2": "hidden",
    "solution2_first": true
   },
   "source": [
    "## Train With For loop"
   ]
  },
  {
   "cell_type": "code",
   "execution_count": 327,
   "id": "0a4db2ee",
   "metadata": {
    "solution2": "hidden"
   },
   "outputs": [
    {
     "name": "stdout",
     "output_type": "stream",
     "text": [
      "Epoch 0, Loss 0.0031473226845264435\n",
      "Epoch 100, Loss 0.0004088380665052682\n",
      "Epoch 200, Loss 0.00017554467194713652\n",
      "Epoch 300, Loss 0.00010167010623263195\n",
      "Epoch 400, Loss 6.764745194232091e-05\n",
      "Epoch 500, Loss 4.879791958956048e-05\n",
      "Epoch 600, Loss 3.711500175995752e-05\n",
      "Epoch 700, Loss 2.9304846975719556e-05\n",
      "Epoch 800, Loss 2.3790191335137933e-05\n"
     ]
    }
   ],
   "source": [
    "epoch=800\n",
    "lrt=.03\n",
    "optimizer=torch.optim.Adam(test_model.parameters(),lr=lrt)\n",
    "loss_fn=nn.MSELoss()\n",
    "for epoch in range(epoch+1):\n",
    "    y_pred=test_model(X)\n",
    "    loss=loss_fn(y_pred,y)\n",
    "    loss.backward()\n",
    "    optimizer.step()\n",
    "    optimizer.zero_grad()\n",
    "    if epoch%100==0:\n",
    "        print(\"Epoch {}, Loss {}\".format(epoch,loss.item()))"
   ]
  },
  {
   "cell_type": "markdown",
   "id": "ae640366",
   "metadata": {},
   "source": [
    "## Test"
   ]
  },
  {
   "cell_type": "code",
   "execution_count": 361,
   "id": "24b5852d",
   "metadata": {},
   "outputs": [
    {
     "data": {
      "text/plain": [
       "tensor([[0.0503],\n",
       "        [0.9524],\n",
       "        [0.9520],\n",
       "        [0.0466]], grad_fn=<SigmoidBackward0>)"
      ]
     },
     "execution_count": 361,
     "metadata": {},
     "output_type": "execute_result"
    }
   ],
   "source": [
    "input_test = torch.tensor([0.,0.])\n",
    "test_model.forward(X.round())"
   ]
  },
  {
   "cell_type": "code",
   "execution_count": 362,
   "id": "00db26e4",
   "metadata": {},
   "outputs": [
    {
     "data": {
      "image/png": "[encoded data removed]",
      "text/plain": [
       "<Figure size 600x500 with 1 Axes>"
      ]
     },
     "metadata": {
      "needs_background": "light"
     },
     "output_type": "display_data"
    }
   ],
   "source": [
    "model_params=list(test_model.parameters())\n",
    "model_weights = model_params[0].data.numpy()\n",
    "model_bias = model_params[1].data.numpy()\n",
    "\n",
    "plt.figure(figsize=(6,5),dpi=100)\n",
    "plt.scatter(X.numpy()[[0,-1], 0], X.numpy()[[0, -1], 1], s=50)\n",
    "plt.scatter(X.numpy()[[1,2], 0], X.numpy()[[1, 2], 1], c='red', s=50)\n",
    "\n",
    "x_1 = np.arange(-0.1, 1.1, 0.1)\n",
    "y_1 = ((x_1 * model_weights[0,0]) + model_bias[0]) / (-model_weights[0,1])\n",
    "plt.plot(x_1, y_1)\n",
    "\n",
    "x_2 = np.arange(-0.1, 1.1, 0.1)\n",
    "y_2 = ((x_2 * model_weights[1,0]) + model_bias[1]) / (-model_weights[1,1])\n",
    "\n",
    "plt.plot(x_2, y_2)\n",
    "plt.legend([\"neuron_1\", \"neuron_2\"], loc=8)\n",
    "plt.show()"
   ]
  },
  {
   "cell_type": "code",
   "execution_count": null,
   "id": "b026ca11",
   "metadata": {},
   "outputs": [],
   "source": []
  }
 ],
 "metadata": {
  "hide_input": false,
  "kernelspec": {
   "display_name": "Python 3 (ipykernel)",
   "language": "python",
   "name": "python3"
  },
  "language_info": {
   "codemirror_mode": {
    "name": "ipython",
    "version": 3
   },
   "file_extension": ".py",
   "mimetype": "text/x-python",
   "name": "python",
   "nbconvert_exporter": "python",
   "pygments_lexer": "ipython3",
   "version": "3.9.12"
  },
  "toc": {
   "base_numbering": 1,
   "nav_menu": {},
   "number_sections": true,
   "sideBar": true,
   "skip_h1_title": false,
   "title_cell": "Table of Contents",
   "title_sidebar": "Contents",
   "toc_cell": false,
   "toc_position": {},
   "toc_section_display": true,
   "toc_window_display": true
  },
  "varInspector": {
   "cols": {
    "lenName": 16,
    "lenType": 16,
    "lenVar": 40
   },
   "kernels_config": {
    "python": {
     "delete_cmd_postfix": "",
     "delete_cmd_prefix": "del ",
     "library": "var_list.py",
     "varRefreshCmd": "print(var_dic_list())"
    },
    "r": {
     "delete_cmd_postfix": ") ",
     "delete_cmd_prefix": "rm(",
     "library": "var_list.r",
     "varRefreshCmd": "cat(var_dic_list()) "
    }
   },
   "types_to_exclude": [
    "module",
    "function",
    "builtin_function_or_method",
    "instance",
    "_Feature"
   ],
   "window_display": false
  }
 },
 "nbformat": 4,
 "nbformat_minor": 5
}
